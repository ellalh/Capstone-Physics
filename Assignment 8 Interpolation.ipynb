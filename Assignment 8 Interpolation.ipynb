{
 "cells": [
  {
   "cell_type": "markdown",
   "metadata": {},
   "source": [
    "# Interpolation"
   ]
  },
  {
   "cell_type": "code",
   "execution_count": 3,
   "metadata": {},
   "outputs": [],
   "source": [
    "import numpy as np\n",
    "import matplotlib.pyplot as plt"
   ]
  },
  {
   "cell_type": "markdown",
   "metadata": {},
   "source": [
    "### Linear Interpolation"
   ]
  },
  {
   "cell_type": "markdown",
   "metadata": {},
   "source": [
    "Suppose we are given a function $f(x)$ at just two points, $x=a$ and $x=b$, and you want to know the function at another point in between. The simplest way to find an estimate of this value is using linear interpolation. Linear interpolation assumes the function follows a straight line between two points. The slope of the straight line approximate is:\n",
    "$$ m = \\frac{f(b) - f(a)}{b - a} $$\n",
    "\n",
    "Then the value $f(x)$ can be approximated by:\n",
    "$$ f(x) \\approx \\frac{f(b) - f(a)}{b-a} (x-a) + f(a) $$"
   ]
  },
  {
   "cell_type": "markdown",
   "metadata": {},
   "source": [
    "#### Step 1: Define a linear function\n",
    "\n",
    "Create a linear function $f(x) = ax + b$. Linear interpolation will yield an accurate answer for a a linear function. This is how we will test our linear interpolation."
   ]
  },
  {
   "cell_type": "code",
   "execution_count": 4,
   "metadata": {},
   "outputs": [],
   "source": [
    "def my_function(x):\n",
    "    y = 2*x + 3\n",
    "    # TO DO: Create a linear function\n",
    "    return y"
   ]
  },
  {
   "cell_type": "markdown",
   "metadata": {},
   "source": [
    "#### Step 2: Implement the linear interpolation\n",
    "Using the equations given above, implement the linear interpolation function"
   ]
  },
  {
   "cell_type": "code",
   "execution_count": 5,
   "metadata": {},
   "outputs": [],
   "source": [
    "def linear_interpolation(x, a, fa, b, fb):\n",
    "    \"\"\"\n",
    "    Fits a line to points (a, f(a)) and (b, f(b)) and returns an \n",
    "    approximation for f(x) for some value x between a and b from \n",
    "    the equation of the line.\n",
    "    Parameters:\n",
    "        x (float): the point of interest between a and b\n",
    "        a (float): known x value\n",
    "        fa (float): known f(a) value\n",
    "        b (float): known x value (b > a)\n",
    "        fb (float): known f(b) value\n",
    "    Returns:\n",
    "        (float): an approximation of f(x) using linear interpolation\n",
    "    \"\"\"\n",
    "    output = fa + (x - a)*((fb-fa)/(b-a))\n",
    "    # To Do: Implement the linear interpolation function\n",
    "    return output\n",
    "    "
   ]
  },
  {
   "cell_type": "markdown",
   "metadata": {},
   "source": [
    "#### Step 3: Test your linear interpolation\n",
    "Using the linear function you created and your linear interpolation function, write at least three assert statements."
   ]
  },
  {
   "cell_type": "code",
   "execution_count": 6,
   "metadata": {},
   "outputs": [],
   "source": [
    "# To DO: Create at least three assert statements using my_function and linear_interpolation\n",
    "\n",
    "assert(linear_interpolation(3, 2, my_function(2), 4, my_function(4)))\n",
    "assert(linear_interpolation(7, 2, my_function(2), 12, my_function(12)))\n",
    "assert(linear_interpolation(-6, -9, my_function(-9), -3, my_function(-3)))"
   ]
  },
  {
   "cell_type": "markdown",
   "metadata": {},
   "source": [
    "#### Step 4: Visualization your results\n",
    "Plot your function. Using a scatter plot, plot at least three x, y points generated using your linear_interpolation function."
   ]
  },
  {
   "cell_type": "code",
   "execution_count": 7,
   "metadata": {
    "scrolled": true
   },
   "outputs": [
    {
     "data": {
      "image/png": "[encoded data removed]",
      "text/plain": [
       "<Figure size 432x288 with 1 Axes>"
      ]
     },
     "metadata": {
      "needs_background": "light"
     },
     "output_type": "display_data"
    }
   ],
   "source": [
    "# To Do: Plot your function with at least three interpolated values\n",
    "x = [3,7,-6]\n",
    "y = [linear_interpolation(3, 2, my_function(2), 4, my_function(4)), linear_interpolation(7, 2, my_function(2), 12, my_function(12)), linear_interpolation(-6, -9, my_function(-9), -3, my_function(-3))]\n",
    "plt.plot(x,y)\n",
    "plt.show()"
   ]
  },
  {
   "cell_type": "markdown",
   "metadata": {},
   "source": [
    "### 2nd Order Lagrangian Interpolation"
   ]
  },
  {
   "cell_type": "markdown",
   "metadata": {},
   "source": [
    "If we have more than two points, a better way to get an estimate of \"in between\" points is using a Lagrangian Interpolation. Lagrangian Interpolation fits a nth order polynomial to a number of points. Higher order polynomials often introduce unnecessary \"wiggles\" that introduce error. Using many low-order polynomials often generate a better estimate. For this example, let's use a quadratic (i.e. a 2nd order polynomial). \n",
    "\n",
    "$$f(x) = \\frac{(x-b)(x-c)}{(a - b)(a-c)}f(a) + \\frac{(x-a)(x-c)}{(b-a)(b-c)}f(b) + \\frac{(x - a)(x-b)}{(c - a)(c - b)} f(c) $$"
   ]
  },
  {
   "cell_type": "markdown",
   "metadata": {},
   "source": [
    "#### Step 1: Define a quadratic function\n",
    "\n",
    "Create a quadratic function $f(x) = ax^2 + bx + c$. 2nd Order Lagrangian Interpolation will yield an accurate answer for a 2nd order polynomial (i.e. a quadratic). This is how we will test our interpolation."
   ]
  },
  {
   "cell_type": "code",
   "execution_count": 17,
   "metadata": {},
   "outputs": [],
   "source": [
    "def my_function(x):\n",
    "    y = x**(2) + 1\n",
    "    #To Do: Create a quadratic function\n",
    "    return y"
   ]
  },
  {
   "cell_type": "markdown",
   "metadata": {},
   "source": [
    "#### Step 2: Implement the 2nd Order Lagrangian Interpolation Function\n",
    "Using the equations given above, implement the 2nd order lagrangian interpolation function"
   ]
  },
  {
   "cell_type": "code",
   "execution_count": 18,
   "metadata": {},
   "outputs": [],
   "source": [
    "def lagrangian_interpolation(x, a, fa, b, fb, c, fc):\n",
    "    \"\"\"\n",
    "    Fits a quadratic to points (a, f(a)), (b, f(b)), and (c, f(c)) and returns an \n",
    "    approximation for f(x) for some value x between a and c from the \n",
    "    equation of a quadratic.\n",
    "    Parameters:\n",
    "        x (float): the point of interest between a and b\n",
    "        a (float): known x value\n",
    "        fa (float): known f(a) value\n",
    "        b (float): known x value (b > a)\n",
    "        fb (float): known f(b) value\n",
    "        c (float): known x value (c > b)\n",
    "        fc (float): known f(c) value\n",
    "    Returns:\n",
    "        (float): an approximation of f(x) using linear interpolation\n",
    "    \"\"\"\n",
    "    output = ((((x-b)*(x-c))/((a-b)*(a-c)))*fa) + ((((x-a)*(x-c))/((b-a)*(b-c)))*fb) + ((((x-a)*(x-b))/((c-a)*(c-b)))*fc)\n",
    "    return output"
   ]
  },
  {
   "cell_type": "markdown",
   "metadata": {},
   "source": [
    "#### Step 3: Test your results"
   ]
  },
  {
   "cell_type": "markdown",
   "metadata": {},
   "source": [
    "Using the quadratic function you created and your 2nd order lagrangian interpolation function, write at least three assert statements."
   ]
  },
  {
   "cell_type": "code",
   "execution_count": 19,
   "metadata": {},
   "outputs": [],
   "source": [
    "# To Do: Write at least three assert statements\n",
    "assert(lagrangian_interpolation(3, 2, my_function(2), 4, my_function(4), 5, my_function(5)))\n",
    "assert(lagrangian_interpolation(-4, -5, my_function(-5), -3, my_function(-3), -2, my_function(-2)))\n",
    "assert(lagrangian_interpolation(0, -6, my_function(-6), 3, my_function(3), 6, my_function(6)))"
   ]
  },
  {
   "cell_type": "markdown",
   "metadata": {},
   "source": [
    "#### Step 4: Visualize your results\n",
    "Plot your function and using a scatter plot, plot at least three x, y points generated from your lagrangian_interpolation function."
   ]
  },
  {
   "cell_type": "code",
   "execution_count": 20,
   "metadata": {},
   "outputs": [
    {
     "data": {
      "image/png": "[encoded data removed]",
      "text/plain": [
       "<Figure size 432x288 with 1 Axes>"
      ]
     },
     "metadata": {
      "needs_background": "light"
     },
     "output_type": "display_data"
    }
   ],
   "source": [
    "# To Do: Plot your function with interpolated values\n",
    "x = [3, -4, 0]\n",
    "y = [lagrangian_interpolation(3, 2, my_function(2), 4, my_function(4), 5, my_function(5)), \n",
    "     lagrangian_interpolation(-4, -5, my_function(-5), -3, my_function(-3), -2, my_function(-2)), \n",
    "     lagrangian_interpolation(0, -6, my_function(-6), 3, my_function(3), 6, my_function(6))]\n",
    "plt.scatter(x,y, color='b')\n",
    "#making it blue:)\n",
    "#plt.show()\n",
    "\n",
    "x_real = np.linspace(-4,3,100)\n",
    "y_real = my_function(x_real)\n",
    "plt.plot(x_real, y_real)\n",
    "plt.show()"
   ]
  },
  {
   "cell_type": "markdown",
   "metadata": {},
   "source": [
    "### Application"
   ]
  },
  {
   "cell_type": "markdown",
   "metadata": {},
   "source": [
    "Also contained in this file is a text file called `Partial_Data.txt`. This contains sparse data. In this application section we're going to import the data and approximate the curve using linear and 2nd order lagranging interpolation."
   ]
  },
  {
   "cell_type": "markdown",
   "metadata": {},
   "source": [
    "#### Step 1: Import the data\n",
    "Take a look at the file and see what data it contains. I suggest using `np.loadtxt` to import this data. Using the argument `unpack = True` will allow you to easily assign each column of data to an individual variable. For more information on the `loadtxt` function and its allowed arguments, see: https://numpy.org/doc/stable/reference/generated/numpy.loadtxt.html"
   ]
  },
  {
   "cell_type": "code",
   "execution_count": 23,
   "metadata": {},
   "outputs": [
    {
     "name": "stdout",
     "output_type": "stream",
     "text": [
      "[[ 0.07255587  0.1571777   0.28042044  0.31702925  0.52904347  0.6949701\n",
      "   1.03558546  1.24394909  1.26304409  1.34178941  1.49958864  1.69713375\n",
      "   1.72262348  1.90872357  2.0572879   2.30412303  2.4199677   2.51866513\n",
      "   2.52801979  3.03521287]\n",
      " [ 0.75406321  0.40902529  0.05612641  0.03103592  0.910067    2.5726828\n",
      "   4.62883866  2.9321659   2.67612141  1.5218646  -0.84905813 -2.73831257\n",
      "  -2.84180629 -2.66428685 -1.81638496 -0.98374816 -1.30343537 -1.89005353\n",
      "  -1.95489515 -2.37376528]]\n"
     ]
    },
    {
     "data": {
      "text/plain": [
       "<matplotlib.collections.PathCollection at 0x7fb3322d9100>"
      ]
     },
     "execution_count": 23,
     "metadata": {},
     "output_type": "execute_result"
    },
    {
     "data": {
      "image/png": "[encoded data removed]",
      "text/plain": [
       "<Figure size 432x288 with 1 Axes>"
      ]
     },
     "metadata": {
      "needs_background": "light"
     },
     "output_type": "display_data"
    }
   ],
   "source": [
    "# To Do: Import the data \n",
    "fish = np.loadtxt(\"./Partial_Data.txt\", unpack = True)\n",
    "print(fish)\n",
    "# To Do: Scatter plot the data\n",
    "m = fish[0]\n",
    "n = fish[1]\n",
    "plt.scatter(m,n)"
   ]
  },
  {
   "cell_type": "markdown",
   "metadata": {},
   "source": [
    "#### Step 2: Linear Interpolation\n",
    "Using your linear interpolation function above, iterate through the sparse data and generate interpolated value.\n",
    "\n",
    "Here's one method to get you started:\n",
    "\n",
    "Starting at the 2nd data point, interate through the data, using the current value (let this value be $b$) and the previous data point (let this be $a$ where $b$ > $a$). Interpolate 100 points between the values of ($a, b$) and plot these values. Move onto the next data point and repeat. "
   ]
  },
  {
   "cell_type": "code",
   "execution_count": 38,
   "metadata": {},
   "outputs": [
    {
     "data": {
      "text/plain": [
       "[<matplotlib.lines.Line2D at 0x7fb328073460>]"
      ]
     },
     "execution_count": 38,
     "metadata": {},
     "output_type": "execute_result"
    },
    {
     "data": {
      "image/png": "[encoded data removed]",
      "text/plain": [
       "<Figure size 432x288 with 1 Axes>"
      ]
     },
     "metadata": {
      "needs_background": "light"
     },
     "output_type": "display_data"
    }
   ],
   "source": [
    "# To Do: Generate and plot interpolated data\n",
    "x_new = np.array([])\n",
    "y_new = np.array([])\n",
    "\n",
    "for i in range(1, len(m)):\n",
    "    b = m[i]\n",
    "    a = m[i - 1]\n",
    "    fa = n[i - 1]\n",
    "    fb = n[i]\n",
    "    dog = np.linspace(a, b, 100)\n",
    "    cat = linear_interpolation(dog, a, fa, b, fb)\n",
    "    x_new = np.append(x_new, dog)\n",
    "    y_new = np.append(y_new, cat)\n",
    "plt.plot(x_new, y_new)"
   ]
  },
  {
   "cell_type": "markdown",
   "metadata": {},
   "source": [
    "#### Step 3: 2nd Order Lagrangian Interpolation\n",
    "Using your 2nd Order Lagrangian Interpolation function above, iterate through the sparse data and generate interpolated value.\n",
    "\n",
    "Here's one method to get you started:\n",
    "\n",
    "Starting at the 3rd data point, interate through the data, using the current value (let this value be $c$) and the previous two (let these be $a$ and $b$ where $b$ > $a$). Interpolate 100 points between the values of ($a, b$) and plot these values. Move onto the next data point and repeat. "
   ]
  },
  {
   "cell_type": "code",
   "execution_count": 42,
   "metadata": {},
   "outputs": [
    {
     "data": {
      "text/plain": [
       "[<matplotlib.lines.Line2D at 0x7fb30005c220>]"
      ]
     },
     "execution_count": 42,
     "metadata": {},
     "output_type": "execute_result"
    },
    {
     "data": {
      "image/png": "[encoded data removed]",
      "text/plain": [
       "<Figure size 432x288 with 1 Axes>"
      ]
     },
     "metadata": {
      "needs_background": "light"
     },
     "output_type": "display_data"
    }
   ],
   "source": [
    "# To Do: Generate and plot interpolated data\n",
    "x_newer = np.array([])\n",
    "y_newer = np.array([])\n",
    "\n",
    "for i in range(2, len(m)):\n",
    "    b = m[i-1]\n",
    "    a = m[i - 2]\n",
    "    fa = n[i - 2]\n",
    "    fb = n[i-1]\n",
    "    c = m[i]\n",
    "    fc = n[i]\n",
    "    dog = np.linspace(a, b, 100)\n",
    "    cat = lagrangian_interpolation(dog, a, fa, b, fb, c, fc)\n",
    "    x_newer = np.append(x_newer, dog)\n",
    "    y_newer = np.append(y_newer, cat)\n",
    "plt.plot(x_newer, y_newer)"
   ]
  },
  {
   "cell_type": "code",
   "execution_count": null,
   "metadata": {},
   "outputs": [],
   "source": []
  }
 ],
 "metadata": {
  "kernelspec": {
   "display_name": "Python 3",
   "language": "python",
   "name": "python3"
  },
  "language_info": {
   "codemirror_mode": {
    "name": "ipython",
    "version": 3
   },
   "file_extension": ".py",
   "mimetype": "text/x-python",
   "name": "python",
   "nbconvert_exporter": "python",
   "pygments_lexer": "ipython3",
   "version": "3.8.8"
  }
 },
 "nbformat": 4,
 "nbformat_minor": 2
}
